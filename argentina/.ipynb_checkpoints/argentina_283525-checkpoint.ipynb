{
 "cells": [
  {
   "cell_type": "markdown",
   "metadata": {
    "id": "aXlKyqj4ZJwi"
   },
   "source": [
    "# **Argentina** - 283525\n",
    "\n",
    "### Analisis de datos de las importaciones del ultimo año, con especial enfasis en los ultimos 6 meses.\n",
    "\n",
    "> Esto es un analisis exploratorio inicial del de las Importaciones de Argentina (01/2022 - 12/2022). Los datos fueron extraidos de Softrade el 20/01/2022 a las 18:00 hs.\n",
    "\n",
    "- - - - - - - - - - - - - - - - - - - - - - - - - - - - - - - - - - - - - ***\n"
   ]
  },
  {
   "cell_type": "markdown",
   "metadata": {
    "id": "pFYenBIIZJwl"
   },
   "source": [
    "## Parte 1\n",
    "\n",
    "#### Esto de abajo es una celda de codigo, que muestra el output abajo. Por ejemplo, aca levanto la bbdd e imprimo las primeras 5 columnas para ver si se cargo o no. Despues muestro informacion basica del \"dataframe\", que tiene X filas e Y columnas.\n"
   ]
  },
  {
   "cell_type": "code",
   "execution_count": 1,
   "metadata": {
    "colab": {
     "base_uri": "https://localhost:8080/"
    },
    "id": "X3j-wB20ZJwm",
    "outputId": "c3fe2458-59a1-40d4-b11b-4951dd038ad0"
   },
   "outputs": [
    {
     "name": "stdout",
     "output_type": "stream",
     "text": [
      "Este dataframe tiene (filas, col): \n",
      " (71, 35) \n",
      " - - - - - - - - - -\n"
     ]
    },
    {
     "data": {
      "text/html": [
       "<div>\n",
       "<style scoped>\n",
       "    .dataframe tbody tr th:only-of-type {\n",
       "        vertical-align: middle;\n",
       "    }\n",
       "\n",
       "    .dataframe tbody tr th {\n",
       "        vertical-align: top;\n",
       "    }\n",
       "\n",
       "    .dataframe thead th {\n",
       "        text-align: right;\n",
       "    }\n",
       "</style>\n",
       "<table border=\"1\" class=\"dataframe\">\n",
       "  <thead>\n",
       "    <tr style=\"text-align: right;\">\n",
       "      <th></th>\n",
       "      <th>Identificador</th>\n",
       "      <th>Item</th>\n",
       "      <th>Fecha</th>\n",
       "      <th>Tipo de Dato</th>\n",
       "      <th>NCM-SIM</th>\n",
       "      <th>Importador</th>\n",
       "      <th>Localidad</th>\n",
       "      <th>Destinación</th>\n",
       "      <th>Aduana</th>\n",
       "      <th>Via Transporte</th>\n",
       "      <th>País de Origen</th>\n",
       "      <th>País de Procedencia</th>\n",
       "      <th>U$S Unitario</th>\n",
       "      <th>U$S FOB</th>\n",
       "      <th>Flete U$S</th>\n",
       "      <th>Seguro U$S</th>\n",
       "      <th>U$S CIF</th>\n",
       "      <th>Cant. Estad.</th>\n",
       "      <th>Un. Medida Estad.</th>\n",
       "      <th>Cantidad</th>\n",
       "      <th>Unidad de Medida</th>\n",
       "      <th>Kgs. Netos</th>\n",
       "      <th>Kgs. Brutos</th>\n",
       "      <th>Derecho</th>\n",
       "      <th>% Dere.</th>\n",
       "      <th>Acuerdo ALADI</th>\n",
       "      <th>Item.1</th>\n",
       "      <th>Marca - Sufijos</th>\n",
       "      <th>Cantidad.1</th>\n",
       "      <th>Unitario Divisa</th>\n",
       "      <th>FOB Divisa</th>\n",
       "      <th>Moneda Divisa</th>\n",
       "      <th>Condición de Venta</th>\n",
       "      <th>Marca o Descripcion</th>\n",
       "      <th>Descripcion Arancelaria</th>\n",
       "    </tr>\n",
       "  </thead>\n",
       "  <tbody>\n",
       "    <tr>\n",
       "      <th>32</th>\n",
       "      <td>22001IG05001263X</td>\n",
       "      <td>1</td>\n",
       "      <td>2022-07-25</td>\n",
       "      <td>DEFINITIVO</td>\n",
       "      <td>2835.25.00.000M</td>\n",
       "      <td>BAYER SOCIEDAD ANONIMA</td>\n",
       "      <td>MUNRO</td>\n",
       "      <td>CONSUMO</td>\n",
       "      <td>BS.AS. (CAPITAL)</td>\n",
       "      <td>ACUATICA</td>\n",
       "      <td>Alemania</td>\n",
       "      <td>Bélgica</td>\n",
       "      <td>8504.45</td>\n",
       "      <td>102053.45</td>\n",
       "      <td>3684.24</td>\n",
       "      <td>116.31</td>\n",
       "      <td>105854.0</td>\n",
       "      <td>12.0</td>\n",
       "      <td>TONELADA</td>\n",
       "      <td>12.0</td>\n",
       "      <td>TONELADA</td>\n",
       "      <td>12000.0</td>\n",
       "      <td>13692.0</td>\n",
       "      <td>0</td>\n",
       "      <td>0</td>\n",
       "      <td>No disponible</td>\n",
       "      <td>0</td>\n",
       "      <td>MARCA: S/M</td>\n",
       "      <td>12.0</td>\n",
       "      <td>8310.0</td>\n",
       "      <td>99720.0</td>\n",
       "      <td>EURO</td>\n",
       "      <td>CFR</td>\n",
       "      <td>AA(S/M)-AI(0000624057)-AJ(TAMBORES X 50 KGS)-C...</td>\n",
       "      <td>HIDROGENOORTOFOSFATO DE CALCIO O FOSFATO DICAL...</td>\n",
       "    </tr>\n",
       "  </tbody>\n",
       "</table>\n",
       "</div>"
      ],
      "text/plain": [
       "       Identificador  Item      Fecha Tipo de Dato          NCM-SIM  \\\n",
       "32  22001IG05001263X     1 2022-07-25   DEFINITIVO  2835.25.00.000M   \n",
       "\n",
       "                Importador Localidad Destinación            Aduana  \\\n",
       "32  BAYER SOCIEDAD ANONIMA     MUNRO     CONSUMO  BS.AS. (CAPITAL)   \n",
       "\n",
       "   Via Transporte País de Origen País de Procedencia  U$S Unitario    U$S FOB  \\\n",
       "32       ACUATICA       Alemania             Bélgica       8504.45  102053.45   \n",
       "\n",
       "    Flete U$S  Seguro U$S   U$S CIF  Cant. Estad. Un. Medida Estad.  Cantidad  \\\n",
       "32    3684.24      116.31  105854.0          12.0          TONELADA      12.0   \n",
       "\n",
       "   Unidad de Medida  Kgs. Netos  Kgs. Brutos  Derecho  % Dere.  Acuerdo ALADI  \\\n",
       "32         TONELADA     12000.0      13692.0        0        0  No disponible   \n",
       "\n",
       "    Item.1 Marca - Sufijos  Cantidad.1  Unitario Divisa  FOB Divisa  \\\n",
       "32       0      MARCA: S/M        12.0           8310.0     99720.0   \n",
       "\n",
       "   Moneda Divisa Condición de Venta  \\\n",
       "32          EURO                CFR   \n",
       "\n",
       "                                  Marca o Descripcion  \\\n",
       "32  AA(S/M)-AI(0000624057)-AJ(TAMBORES X 50 KGS)-C...   \n",
       "\n",
       "                              Descripcion Arancelaria  \n",
       "32  HIDROGENOORTOFOSFATO DE CALCIO O FOSFATO DICAL...  "
      ]
     },
     "execution_count": 1,
     "metadata": {},
     "output_type": "execute_result"
    }
   ],
   "source": [
    "import pandas as pd\n",
    "import numpy as np\n",
    "import warnings\n",
    "# from google.colab import drive\n",
    "\n",
    "pd.options.display.max_columns = None\n",
    "pd.options.display.max_rows = None\n",
    "\n",
    "# !pwd\n",
    "# !cd drive\n",
    "\n",
    "# drive.mount('/content/drive')\n",
    "\n",
    "warnings.simplefilter(\"ignore\")\n",
    "\n",
    "data_location = \"./data/283525_Importaciones_01-12:2022.xlsx\"\n",
    "\n",
    "data = pd.read_excel(data_location, engine=\"openpyxl\")\n",
    "\n",
    "\n",
    "print(\"Este dataframe tiene (filas, col): \\n\",\n",
    "      data.shape, \"\\n\", \"- - - - - - - - - -\")\n",
    "\n",
    "\n",
    "data.sample(1)\n"
   ]
  },
  {
   "cell_type": "code",
   "execution_count": 2,
   "metadata": {
    "colab": {
     "base_uri": "https://localhost:8080/"
    },
    "id": "nODF-jrnZJwn",
    "outputId": "eaafe478-f493-465f-b898-c1a0e508b94a"
   },
   "outputs": [
    {
     "name": "stdout",
     "output_type": "stream",
     "text": [
      "\u001b[1m\n",
      "Esta bbdd tiene los siguientes datos: \n",
      " \n",
      "\u001b[0m ['Identificador', 'Item', 'Fecha', 'Tipo de Dato', 'NCM-SIM', 'Importador', 'Localidad', 'Destinación', 'Aduana', 'Via Transporte', 'País de Origen', 'País de Procedencia', 'U$S Unitario', 'U$S FOB', 'Flete U$S', 'Seguro U$S', 'U$S CIF', 'Cant. Estad.', 'Un. Medida Estad.', 'Cantidad', 'Unidad de Medida', 'Kgs. Netos', 'Kgs. Brutos', 'Derecho', '% Dere.', 'Acuerdo ALADI', 'Item.1', 'Marca - Sufijos', 'Cantidad.1', 'Unitario Divisa', 'FOB Divisa', 'Moneda Divisa', 'Condición de Venta', 'Marca o Descripcion', 'Descripcion Arancelaria'] \n",
      " \n",
      "- - - - - - - - - - - - - - - - -\n",
      "\n"
     ]
    }
   ],
   "source": [
    "data_cols = [col for col in data.columns]\n",
    "\n",
    "print(\"\\033[1m\" + \"\\nEsta bbdd tiene los siguientes datos: \\n \\n\" +\n",
    "      \"\\033[0m\", data_cols, \"\\n \\n- - - - - - - - - - - - - - - - -\\n\")\n"
   ]
  },
  {
   "cell_type": "markdown",
   "metadata": {
    "id": "eyJE4m7PZJwn"
   },
   "source": [
    "Vamos a ver si estan todos los registros en todas las celdas, o si hay datos sin rellenar:\n",
    "\n",
    "> Este metodo muchas veces puede salir mal porque a veces se rellenan los valores con n/a o cosas del estilo. Despues tambien reviso eso, no worries.\n"
   ]
  },
  {
   "cell_type": "code",
   "execution_count": 3,
   "metadata": {
    "colab": {
     "base_uri": "https://localhost:8080/"
    },
    "id": "YTTupdzJZJwo",
    "outputId": "8a01d944-81d1-4f11-9be9-3a8cb7808b8d"
   },
   "outputs": [
    {
     "name": "stdout",
     "output_type": "stream",
     "text": [
      "\u001b[1m\n",
      "Cantidad de valores que faltan ser completados:\n",
      " \n",
      "\u001b[0m % Dere.                    0\n",
      "Acuerdo ALADI              0\n",
      "Aduana                     0\n",
      "Cant. Estad.               0\n",
      "Cantidad                   0\n",
      "Cantidad.1                 0\n",
      "Condición de Venta         0\n",
      "Derecho                    0\n",
      "Descripcion Arancelaria    0\n",
      "Destinación                0\n",
      "FOB Divisa                 0\n",
      "Fecha                      0\n",
      "Flete U$S                  0\n",
      "Identificador              0\n",
      "Importador                 0\n",
      "Item                       0\n",
      "Item.1                     0\n",
      "Kgs. Brutos                0\n",
      "Kgs. Netos                 0\n",
      "Localidad                  0\n",
      "Marca - Sufijos            0\n",
      "Marca o Descripcion        0\n",
      "Moneda Divisa              0\n",
      "NCM-SIM                    0\n",
      "País de Origen             0\n",
      "País de Procedencia        0\n",
      "Seguro U$S                 0\n",
      "Tipo de Dato               0\n",
      "U$S CIF                    0\n",
      "U$S FOB                    0\n",
      "U$S Unitario               0\n",
      "Un. Medida Estad.          0\n",
      "Unidad de Medida           0\n",
      "Unitario Divisa            0\n",
      "Via Transporte             0\n",
      "dtype: int64\n"
     ]
    }
   ],
   "source": [
    "is_null_result = data.isnull()\n",
    "# Se ordenan jerarquicamente, en caso de haber alguno, aparece primero.\n",
    "cantidad_nulos = is_null_result.sum().sort_index()\n",
    "\n",
    "print(\"\\033[1m\" + \"\\nCantidad de valores que faltan ser completados:\\n \\n\" +\n",
    "      \"\\033[0m\", cantidad_nulos)\n"
   ]
  },
  {
   "cell_type": "markdown",
   "metadata": {
    "id": "SZbAcUYJZJwo"
   },
   "source": [
    "### La cantidad de campos que no fueron completados es porque se estan usando las palabras de relleno para indicar ausencia:\n",
    "\n",
    "> - No disponible\n",
    "> - NO DISPONIBLE\n",
    "> - S/M\n",
    "> - SIN MARCA\n",
    "> - Sin marca\n",
    "\n",
    "###### `regex_pattern = \"/[nNsS][oOiI|\\/](\\s|[nN]|[Mm])|([dD|MmaAiIsS])/g\"`\n"
   ]
  },
  {
   "cell_type": "code",
   "execution_count": 4,
   "metadata": {
    "colab": {
     "base_uri": "https://localhost:8080/"
    },
    "id": "5zwkCewyZJwp",
    "outputId": "cfdb96fa-ed60-4369-8706-e2e20d6dc113"
   },
   "outputs": [
    {
     "name": "stdout",
     "output_type": "stream",
     "text": [
      "\u001b[1m\n",
      "Esta bbdd tiene X registros de las siguientes marcas: \n",
      " \n",
      "\u001b[0m MARCA: S/M                 32\n",
      "MARCA: PHOSBIC              6\n",
      "MARCA: DI CAFOS A 12        4\n",
      "MARCA: BUDENHEIM            4\n",
      "MARCA: DI CAFOS D 160       3\n",
      "MARCA: INNOPHOS INC         3\n",
      "MARCA: ANHYDROUS            3\n",
      "MARCA: DI CAFOS             2\n",
      "MARCA: DR PAUL LOHMANN      2\n",
      "MARCA: DI CAFOS A 60        2\n",
      "MARCA: SUDEEP PHARMA        2\n",
      "MARCA: DICAFOS              1\n",
      "MARCA: DI CAFOS D 14        1\n",
      "MARCA: EMCOMPRESS           1\n",
      "MARCA: ABBOTT               1\n",
      "MARCA: REEPHOS CHEMICAL     1\n",
      "MARCA: SIGMA                1\n",
      "MARCA: ESMALGLASS           1\n",
      "MARCA: DI TAB               1\n",
      "Name: Marca - Sufijos, dtype: int64 \n",
      " \n",
      "- - - - - - - - - - - - - - - - -\n"
     ]
    }
   ],
   "source": [
    "print(\"\\033[1m\" + \"\\nEsta bbdd tiene X registros de las siguientes marcas: \\n \\n\" +\n",
    "      \"\\033[0m\", data['Marca - Sufijos'].value_counts(), \"\\n \\n- - - - - - - - - - - - - - - - -\")\n"
   ]
  },
  {
   "cell_type": "code",
   "execution_count": 5,
   "metadata": {
    "colab": {
     "base_uri": "https://localhost:8080/"
    },
    "id": "J9YJqO6qZJwq",
    "outputId": "48765bca-66b2-4312-9c73-150d116a269c"
   },
   "outputs": [
    {
     "name": "stdout",
     "output_type": "stream",
     "text": [
      "\u001b[1m\n",
      "Esta bbdd tiene X registros de los siguientes Importadores en el ultimo año (2022): \n",
      " \n",
      "\u001b[0m BAYER SOCIEDAD ANONIMA                      20\n",
      "ETILFARMA S A                               16\n",
      "TEKNAL S A                                   6\n",
      "TREND CHEMICAL SRL                           4\n",
      "CATALENT ARGENTINA SOCIEDAD ANONIMA INDU     4\n",
      "SURFACTAN S.A.                               3\n",
      "IVAX ARGENTINA SOCIEDAD ANONIMA              3\n",
      "FARMATRADE S R L                             3\n",
      "WAYNE CHEMICAL SRL                           2\n",
      "PFIZER SOCIEDAD DE  RESPONSABILIDAD LIMI     2\n",
      "GLAXOSMITHKLINE ARGENTINA SOCIEDAD ANONI     1\n",
      "INDUSTRIAS QUIMICAS ALMIDAR S A              1\n",
      "SIGMA ALDRICH DE ARGENTINA S A               1\n",
      "FERRO ARGENTINA SOCIEDAD ANONIMA             1\n",
      "ROSPAW SRL                                   1\n",
      "PRODUCTOS DESTILADOS S A C I Y F             1\n",
      "ABBOTT LABORATORIES ARGENTINA SA             1\n",
      "ALIMENTAL S A                                1\n",
      "Name: Importador, dtype: int64 \n",
      " \n",
      "- - - - - - - - - - - - - - - - -\n"
     ]
    }
   ],
   "source": [
    "print(\"\\033[1m\" + \"\\nEsta bbdd tiene X registros de los siguientes Importadores en el ultimo año (2022): \\n \\n\" +\n",
    "      \"\\033[0m\", data['Importador'].value_counts(), \"\\n \\n- - - - - - - - - - - - - - - - -\")\n"
   ]
  },
  {
   "cell_type": "markdown",
   "metadata": {
    "id": "68JzUGWaZJwq"
   },
   "source": [
    "#### Armo una base de datos separada con las columnas que voy a usar, y descarto las que no. Descarto las importaciones que se hayan hecho por via de transporte aerea, o que tengan menos de 15 toneladas. Filtro los precios cuyo precio unitario sea mayor a $1200 U$S. Estandarizo el formato de la fecha, para poder realizar busquedas semestrales.\n"
   ]
  },
  {
   "cell_type": "code",
   "execution_count": 6,
   "metadata": {
    "colab": {
     "base_uri": "https://localhost:8080/",
     "height": 450
    },
    "id": "MU1qt1SlZJwr",
    "outputId": "cdd0b6cd-efa6-4cbb-cbe6-e541079e665b"
   },
   "outputs": [
    {
     "name": "stdout",
     "output_type": "stream",
     "text": [
      "\n",
      "El ultimo ano tiene (filas, cols):\n",
      "\n",
      " (71, 20) \n",
      "\n",
      "- - - - - - - - -\n",
      "\n",
      "ACUATICA    6\n",
      "Name: Via Transporte, dtype: int64\n"
     ]
    }
   ],
   "source": [
    "df_new = data.loc[:, ['NCM-SIM', 'Fecha', 'Tipo de Dato',  'Importador', 'Localidad', 'Destinación', 'Aduana', 'Via Transporte', 'País de Origen',\n",
    "                      'País de Procedencia', 'U$S Unitario', 'U$S FOB', 'Flete U$S', 'Seguro U$S', 'U$S CIF', 'Cantidad', 'Unidad de Medida', 'Kgs. Netos', 'Marca - Sufijos', 'Cantidad.1']]\n",
    "\n",
    "# df_new.info()\n",
    "\n",
    "print(\"\\nEl ultimo ano tiene (filas, cols):\\n\\n\",\n",
    "      df_new.shape, '\\n\\n- - - - - - - - -\\n')\n",
    "\n",
    "# Se eliminan registros que vengan por aire\n",
    "df_new.drop(df_new[df_new['Via Transporte'] == 'AVION'].index, inplace=True)\n",
    "\n",
    "df_new[\"U$S Unitario\"] = (df_new['U$S CIF'] / df_new['Kgs. Netos']).round(2)\n",
    "\n",
    "df_new_filtered = df_new.loc[(df_new['U$S Unitario'] <= 1.2)]\n",
    "\n",
    "df_new_filtered['Fecha'] = pd.to_datetime(df_new['Fecha'], format='%Y-%m-%d')\n",
    "\n",
    "# print(\n",
    "#     f\"> Todas las unidades de medida de cantidad comercial estan en kilos netos: {df_new['Unidad de Medida'].value_counts()}\\n\")\n",
    "\n",
    "# df_new.sample(6)\n",
    "\n",
    "print(df_new_filtered['Via Transporte'].value_counts())\n"
   ]
  },
  {
   "cell_type": "markdown",
   "metadata": {
    "id": "mMyZ2ZbLZJwr"
   },
   "source": [
    "#### Sobre esa, armo otra base de datos separada para armar el analisis de venta en los ultimos 6 meses para Peru.\n"
   ]
  },
  {
   "cell_type": "code",
   "execution_count": 7,
   "metadata": {
    "colab": {
     "base_uri": "https://localhost:8080/"
    },
    "id": "kYwLzBsuZJws",
    "outputId": "df0b43d3-23fd-4324-f451-0989e7d9ef47"
   },
   "outputs": [
    {
     "name": "stdout",
     "output_type": "stream",
     "text": [
      "\u001b[1m\n",
      "> El ultimo ano con productos de U$S Unitario <= 1200 tienen (filas, cols):\u001b[0m\n",
      "\n",
      " (6, 20) \n",
      "\n",
      "- - - - - - - - -\n",
      "\u001b[1m\n",
      "> De U$S Unitario(<=1200) en el ultimo ano tenemos los siguientes estadisticos:\n",
      "\u001b[0m\n",
      " count    6.00\n",
      "mean     0.97\n",
      "std      0.11\n",
      "min      0.79\n",
      "25%      0.91\n",
      "50%      1.01\n",
      "75%      1.06\n",
      "max      1.07\n",
      "Name: U$S Unitario, dtype: float64 \n",
      "\n",
      "- - - - - - - - -\n",
      "\n"
     ]
    }
   ],
   "source": [
    "# # Filtro los datos por los últimos 6 meses\n",
    "# df_6months = df_new_filtered.loc[(df_new_filtered['Fecha'] > \"2022-05-31\")\n",
    "#                                  & (df_new_filtered['Fecha'] <= \"2022-12-31\")]\n",
    "\n",
    "\n",
    "print(\"\\033[1m\\n> El ultimo ano con productos de U$S Unitario <= 1200 tienen (filas, cols):\\033[0m\\n\\n\",\n",
    "      df_new_filtered.shape, '\\n\\n- - - - - - - - -')\n",
    "\n",
    "print(\"\\033[1m\\n> De U$S Unitario(<=1200) en el ultimo ano tenemos los siguientes estadisticos:\\n\\033[0m\\n\",\n",
    "      df_new_filtered['U$S Unitario'].describe().round(2), '\\n\\n- - - - - - - - -\\n')\n",
    "\n",
    "# print(\"\\033[1m\\n> Los 6 ultimos meses con productos de U$S Unitario <= 1200 tienen (filas, cols):\\033[0m\\n\\n\",\n",
    "#       df_6months.shape, '\\n\\n- - - - - - - - -')\n",
    "\n",
    "# print(\"\\033[1m\\n> De U$S Unitario(<=1200) en los ultimos 6 meses tenemos los siguientes estadisticos:\\n\\033[0m\\n\",\n",
    "#       df_6months['U$S Unitario'].describe().round(2), '\\n\\n- - - - - - - - -\\n')\n",
    "\n",
    "\n",
    "# df_6months.sample(4)\n"
   ]
  },
  {
   "cell_type": "code",
   "execution_count": 8,
   "metadata": {
    "colab": {
     "base_uri": "https://localhost:8080/",
     "height": 658
    },
    "id": "WevfGFJ-ZJws",
    "outputId": "bb384d28-321e-4b69-9ac2-545f574c9f8d"
   },
   "outputs": [
    {
     "data": {
      "text/plain": [
       "<AxesSubplot: title={'center': 'U$S Unitario en 2022'}>"
      ]
     },
     "execution_count": 8,
     "metadata": {},
     "output_type": "execute_result"
    },
    {
     "data": {
      "image/png": "[encoded data removed]",
      "text/plain": [
       "<Figure size 640x480 with 1 Axes>"
      ]
     },
     "metadata": {},
     "output_type": "display_data"
    }
   ],
   "source": [
    "# df_6months['U$S Unitario'].dtype\n",
    "\n",
    "\n",
    "df_new_filtered['U$S Unitario'].plot(kind='box', title=\"U$S Unitario en 2022\")\n"
   ]
  },
  {
   "cell_type": "code",
   "execution_count": 9,
   "metadata": {
    "id": "LB3H9mWsZJwt"
   },
   "outputs": [
    {
     "data": {
      "image/png": "[encoded data removed]",
      "text/plain": [
       "<Figure size 640x480 with 1 Axes>"
      ]
     },
     "metadata": {},
     "output_type": "display_data"
    }
   ],
   "source": [
    "import matplotlib.pyplot as plt\n",
    "\n",
    "df_new_filtered = df_6months.sort_values(\n",
    "    'U$S Unitario', ascending=False)\n",
    "\n",
    "df_new_filtered.plot.line(x=\"U$S Unitario\", y=\"Kgs. Netos\",\n",
    "                          title=\"Kilogramos netos y precio U$S Unitario de compra (ultimo año)\")\n",
    "\n",
    "df_new_filtered = df_6months.sort_values(\n",
    "    'Kgs. Netos', ascending=False)\n"
   ]
  },
  {
   "cell_type": "code",
   "execution_count": 10,
   "metadata": {
    "id": "dGI9PMnwZJwt"
   },
   "outputs": [
    {
     "name": "stdout",
     "output_type": "stream",
     "text": [
      "\u001b[1m\n",
      "> Esta bbdd es un recorte del ultimo año, y tiene los siguientes Importadores (nombre, no. importaciones): \n",
      " \n",
      "\u001b[0m TEKNAL S A    4\n",
      "Name: Importador, dtype: int64 \n",
      " \n",
      "- - - - - - - - - - - - - - - - -\n"
     ]
    }
   ],
   "source": [
    "print(\"\\033[1m\" + \"\\n> Esta bbdd es un recorte del ultimo año, y tiene los siguientes Importadores (nombre, no. importaciones): \\n \\n\" +\n",
    "      \"\\033[0m\", df_new_filtered['Importador'].value_counts(), \"\\n \\n- - - - - - - - - - - - - - - - -\")\n"
   ]
  },
  {
   "cell_type": "markdown",
   "metadata": {
    "id": "lJAcmB5EZJwt"
   },
   "source": [
    "## Parte 2\n",
    "\n",
    "#### Desglose por compañia de las importaciones de los ultimos 6 meses. Este incluye:\n",
    "\n",
    "- Nombre de la compañia\n",
    "- Cantidad de importaciones\n",
    "- Proveedores, y cantidad de importaciones por proveedor\n",
    "- Precio promedio de compra por unidad en los ultimos 6 meses\n",
    "- Volumen total neto de compra en los ultimos 6 meses\n",
    "- Detalles de la ultima compra realizada\n"
   ]
  },
  {
   "cell_type": "code",
   "execution_count": 16,
   "metadata": {
    "id": "SSszS9fFZJwt"
   },
   "outputs": [
    {
     "name": "stdout",
     "output_type": "stream",
     "text": [
      "\u001b[1m> Estos datos son de:\n",
      " \u001b[0m TEKNAL S A\n",
      "- - - - - - - - - -\n",
      "\n",
      "\u001b[1m> Estos datos tienen (filas, cols):\u001b[0m (4, 20)\n",
      "- - - - - - - - - -\n",
      "\n",
      "\u001b[1m> El precio promedio de U$S Unitario en los ultimos 6 meses fue:\u001b[0m 1.04\n",
      "- - - - - - - - - -\n",
      "\n",
      "\u001b[1m> El volumen total de compra en TONELADAS fue de:\u001b[0m 162.0\n",
      "- - - - - - - - - -\n",
      "\n",
      "\u001b[1m> Las compras provienen de: \n",
      "\u001b[0mPerú    4\n",
      "Name: País de Origen, dtype: int64\n",
      "- - - - - - - - - -\n",
      "\n",
      "\u001b[1m> La ultima compra fue:\u001b[0m \n",
      "             NCM-SIM      Fecha Tipo de Dato  Importador   Localidad  \\\n",
      "58  2835.25.00.000M 2022-10-24   DEFINITIVO  TEKNAL S A  RIO CUARTO   \n",
      "\n",
      "   Destinación   Aduana Via Transporte País de Origen País de Procedencia  \\\n",
      "58     CONSUMO  ROSARIO       ACUATICA           Perú                Perú   \n",
      "\n",
      "    U$S Unitario  U$S FOB  Flete U$S  Seguro U$S   U$S CIF  Cantidad  \\\n",
      "58          0.99  24570.0     2162.2       13.81  26746.01      27.0   \n",
      "\n",
      "   Unidad de Medida  Kgs. Netos Marca - Sufijos  Cantidad.1  \n",
      "58         TONELADA     27000.0  MARCA: PHOSBIC        27.0  \n",
      "\n",
      "\u001b[1m\n",
      "__________________________________________________________________________________\n",
      "\n",
      "\u001b[1m> Las companias con mas de 15 tm en el ultimo semestre fueron:\u001b[0m ['TEKNAL S A'] \n",
      "\u001b[1m\n",
      "__________________________________________________________________________________\n",
      "\n"
     ]
    },
    {
     "data": {
      "text/html": [
       "<div>\n",
       "<style scoped>\n",
       "    .dataframe tbody tr th:only-of-type {\n",
       "        vertical-align: middle;\n",
       "    }\n",
       "\n",
       "    .dataframe tbody tr th {\n",
       "        vertical-align: top;\n",
       "    }\n",
       "\n",
       "    .dataframe thead th {\n",
       "        text-align: right;\n",
       "    }\n",
       "</style>\n",
       "<table border=\"1\" class=\"dataframe\">\n",
       "  <thead>\n",
       "    <tr style=\"text-align: right;\">\n",
       "      <th></th>\n",
       "      <th>NCM/NANDINA/SACH</th>\n",
       "      <th>Importador</th>\n",
       "      <th>Volumen Total (Tn)</th>\n",
       "      <th>No. Importaciones</th>\n",
       "      <th>Precio Promedio</th>\n",
       "      <th>Ultimo Precio</th>\n",
       "      <th>Ref. Ultima Compra</th>\n",
       "      <th>Participacion en Vol. Total</th>\n",
       "      <th>Origenes</th>\n",
       "    </tr>\n",
       "  </thead>\n",
       "  <tbody>\n",
       "    <tr>\n",
       "      <th>0</th>\n",
       "      <td>283525</td>\n",
       "      <td>TEKNAL S A</td>\n",
       "      <td>162.0</td>\n",
       "      <td>4</td>\n",
       "      <td>1040.0</td>\n",
       "      <td>990.0</td>\n",
       "      <td>Fecha: 2022-10-24 | Ctdad: 27.0 tns</td>\n",
       "      <td>100%</td>\n",
       "      <td>Perú</td>\n",
       "    </tr>\n",
       "  </tbody>\n",
       "</table>\n",
       "</div>"
      ],
      "text/plain": [
       "   NCM/NANDINA/SACH  Importador  Volumen Total (Tn)  No. Importaciones  \\\n",
       "0            283525  TEKNAL S A               162.0                  4   \n",
       "\n",
       "   Precio Promedio  Ultimo Precio                   Ref. Ultima Compra  \\\n",
       "0           1040.0          990.0  Fecha: 2022-10-24 | Ctdad: 27.0 tns   \n",
       "\n",
       "  Participacion en Vol. Total Origenes  \n",
       "0                        100%     Perú  "
      ]
     },
     "execution_count": 16,
     "metadata": {},
     "output_type": "execute_result"
    }
   ],
   "source": [
    "# FX DEVUELVE DETALLES DE IMPORTADOR\n",
    "\n",
    "def last_year_data():\n",
    "    global dataframe_toExcel\n",
    "\n",
    "    companias_mayores_15tm = []\n",
    "\n",
    "    dataframe_toExcel = {\n",
    "        \"NCM/NANDINA/SACH\": [],\n",
    "        \"Importador\": [],\n",
    "        \"No. Importaciones\": [],\n",
    "        \"Volumen Total (Tn)\": [],\n",
    "        \"Precio Promedio\": [],\n",
    "        \"Ultimo Precio\": [],\n",
    "        # \"Proveedores\": [],\n",
    "        \"Origenes\": [],\n",
    "        \"Ref. Ultima Compra\": [],\n",
    "        \"Participacion en Vol. Total\": []\n",
    "    }\n",
    "\n",
    "    for company in df_new_filtered['Importador'].unique():\n",
    "\n",
    "        data = df_new_filtered[df_new_filtered['Importador']\n",
    "                               == f\"{company}\"]\n",
    "        volumenTotalImportacionTn = (\n",
    "            df_new_filtered['Kgs. Netos'].sum()/1000).round(2)\n",
    "\n",
    "        if (data['Kgs. Netos'].sum() > 15000):\n",
    "\n",
    "            companias_mayores_15tm.append(company)\n",
    "            volumenTotalCompania = (data['Kgs. Netos'].sum()/1000).round(2)\n",
    "\n",
    "            # Adding iterated values to the dataframe\n",
    "            dataframe_toExcel['NCM/NANDINA/SACH'].append(\n",
    "                283525\n",
    "            )\n",
    "            dataframe_toExcel['Importador'].append(company)\n",
    "            dataframe_toExcel['No. Importaciones'].append(len(data))\n",
    "            dataframe_toExcel['Volumen Total (Tn)'].append(\n",
    "                volumenTotalCompania\n",
    "            )\n",
    "            dataframe_toExcel['Precio Promedio'].append(\n",
    "                (data['U$S Unitario'].mean().round(2))*1000)\n",
    "            dataframe_toExcel['Origenes'].append(\n",
    "                ', '.join(data['País de Origen'].unique().tolist()))\n",
    "\n",
    "            data = data.sort_values('Fecha', ascending=False)\n",
    "            fecha_ultima_compra = data['Fecha'].iloc[0]\n",
    "            data_ultima_compra = data[data['Fecha'] == fecha_ultima_compra]\n",
    "\n",
    "            dataframe_toExcel['Ultimo Precio'].append(\n",
    "                (data_ultima_compra['U$S Unitario']._get_value(0, ':,-1'))*1000)\n",
    "            dataframe_toExcel['Ref. Ultima Compra'].append(\n",
    "                f\"Fecha: {fecha_ultima_compra.date()} | Ctdad: {(data_ultima_compra['Kgs. Netos'].sum()/1000).round(2)} tns\")\n",
    "            dataframe_toExcel['Participacion en Vol. Total'].append(\n",
    "                f\"{round((volumenTotalCompania / volumenTotalImportacionTn) * 100)}%\"\n",
    "            )\n",
    "\n",
    "            # print(\n",
    "            #     f\"\\033[1m> Estos datos son de:\\n \\033[0m {company}\\n- - - - - - - - - -\\n\")\n",
    "\n",
    "            # print(\n",
    "            #     f\"\\033[1m> Estos datos tienen (filas, cols):\\033[0m {data.shape}\\n- - - - - - - - - -\\n\")\n",
    "\n",
    "            # # print(\n",
    "            #     # f\"\\033[1m> Los proveedores de fueron:\\033[0m \\n {data['Proveedor'].value_counts()}\\n- - - - - - - - - -\\n\")\n",
    "\n",
    "            # print(\n",
    "            #     f\"\\033[1m> El precio promedio de U$S Unitario en los ultimos 6 meses fue:\\033[0m {data['U$S Unitario'].mean().round(2)}\\n- - - - - - - - - -\\n\")\n",
    "            # print(\n",
    "            #     f\"\\033[1m> El volumen total de compra en TONELADAS fue de:\\033[0m {(data['Kgs. Netos'].sum()/1000).round(2)}\\n- - - - - - - - - -\\n\")\n",
    "\n",
    "            # print(\n",
    "            #     f\"\\033[1m> Las compras provienen de: \\n\\033[0m{data['País de Origen'].value_counts()}\\n- - - - - - - - - -\\n\")\n",
    "\n",
    "            # print(\n",
    "            #     f\"\\033[1m> La ultima compra fue:\\033[0m \\n {data_ultima_compra}\\n\")\n",
    "\n",
    "            # print(\n",
    "            #     f\"\\033[1m\\n__________________________________________________________________________________\\n\")\n",
    "\n",
    "    print(\n",
    "        f\"\\033[1m> Las companias con mas de 15 tm en el ultimo semestre fueron:\\033[0m {companias_mayores_15tm} \")\n",
    "    print(\n",
    "        f\"\\033[1m\\n__________________________________________________________________________________\\n\")\n",
    "\n",
    "\n",
    "last_year_data()\n",
    "\n",
    "excel_new_data = pd.DataFrame.from_records(\n",
    "    dataframe_toExcel).sort_values('Volumen Total (Tn)', ascending=False).reset_index(drop=True)\n",
    "\n",
    "excel_new_data = excel_new_data[['NCM/NANDINA/SACH', 'Importador', 'Volumen Total (Tn)', 'No. Importaciones',\n",
    "                                 'Precio Promedio', 'Ultimo Precio', 'Ref. Ultima Compra', \"Participacion en Vol. Total\", 'Origenes']]\n",
    "\n",
    "\n",
    "excel_new_data\n"
   ]
  },
  {
   "cell_type": "code",
   "execution_count": 12,
   "metadata": {},
   "outputs": [
    {
     "name": "stdout",
     "output_type": "stream",
     "text": [
      "\u001b[1m> Las hojas del excel actualmente son:\u001b[0m\n",
      " [<Worksheet 'ARGENTINA' id:1760541431>, <Worksheet 'PERU' id:1973554330>, <Worksheet 'CHILE' id:1603171565>, <Worksheet 'ECUADOR' id:1596689143>, <Worksheet 'COLOMBIA' id:232380886>, <Worksheet 'PANAMA' id:2118965980>, <Worksheet 'PARAGUAY' id:187032913>, <Worksheet 'URUGUAY' id:1963517968>, <Worksheet 'COSTA RICA' id:118145819>]\n",
      "- - - - - - - - - -\n",
      "\n"
     ]
    }
   ],
   "source": [
    "import os\n",
    "import json\n",
    "import gspread as gs\n",
    "\n",
    "CURRENT_WD = os.getcwd()\n",
    "COUNTRY_WD = (os.path.basename(CURRENT_WD).split('/')[-1]).upper()\n",
    "CREDENTIALS = '../credentials.json'\n",
    "\n",
    "gc = gs.service_account(filename='../service-credentials.json')\n",
    "sh = gc.open('Resumen2022')\n",
    "\n",
    "worksheet_list = sh.worksheets()\n",
    "\n",
    "print(\n",
    "    f\"\\033[1m> Las hojas del excel actualmente son:\\033[0m\\n {worksheet_list}\\n- - - - - - - - - -\\n\")\n",
    "\n",
    "try:\n",
    "    ws = sh.worksheet(f'{COUNTRY_WD}')\n",
    "    # Code if spreadsheet exists:\n",
    "    print(\"Spreadsheet exists: Modifying existing working sheet...\\n- - - - - - - - - -\\n\")\n",
    "    # ws.clear()\n",
    "    df_values = excel_new_data.values.tolist()\n",
    "    sh.values_append(f'{COUNTRY_WD}', {'valueInputOption': 'RAW'}, {\n",
    "                     'values': df_values})\n",
    "    print(\"> Spreadsheet modified.\\n- - - - - - - - - -\\n\")\n",
    "except gs.exceptions.WorksheetNotFound:\n",
    "    # Code if spreadsheet doesn't exist:\n",
    "    print(\"Spreadsheet doesn't exist: Creating the new worksheet...\\n- - - - - - - - - -\\n\")\n",
    "    sh.add_worksheet(title=f\"{COUNTRY_WD}\", rows=100, cols=20)\n",
    "    ws = sh.worksheet(f'{COUNTRY_WD}')\n",
    "    ws.update([excel_new_data.columns.values.tolist()] +\n",
    "              excel_new_data.values.tolist())\n",
    "    print(\"> Spreadsheet created.\\n- - - - - - - - - -\\n\")\n"
   ]
  },
  {
   "cell_type": "markdown",
   "metadata": {
    "id": "g_nR2D2C68k2"
   },
   "source": [
    "## Parte 3\n",
    "\n",
    "#### En esta parte se responden preguntas especificas usando datos anuales y semestrales.\n",
    "\n",
    "- Cuanto volumen importo cada compañia peruana en el ultimo año, y semestre?\n"
   ]
  },
  {
   "cell_type": "code",
   "execution_count": 17,
   "metadata": {
    "id": "7VfavI3E7N5-"
   },
   "outputs": [
    {
     "name": "stdout",
     "output_type": "stream",
     "text": [
      "\u001b[1m\n",
      " ~ ULTIMO AÑO (2022) ~ \u001b[0m\n",
      "\n",
      "- - - - - - - - -\n",
      "\u001b[1m\n",
      "> El ultimo año con productos de U$S Unitario <= 1200 tiene (filas, cols):\u001b[0m\n",
      "\n",
      " (4, 20) \n",
      "\n",
      "- - - - - - - - -\n",
      "\u001b[1m \n",
      "> De U$S Unitario(<=1200) en el ultimo año tenemos los siguientes estadisticos:\n",
      " \u001b[0m\n",
      " count    4.00\n",
      "mean     1.04\n",
      "std      0.04\n",
      "min      0.99\n",
      "25%      1.02\n",
      "50%      1.05\n",
      "75%      1.07\n",
      "max      1.07\n",
      "Name: U$S Unitario, dtype: float64 \n",
      "\n",
      "- - - - - - - - -\n",
      "\n",
      "\u001b[1m ~ ULTIMO SEMESTRE (2022) ~ \u001b[0m\n",
      "\n",
      "- - - - - - - - -\n"
     ]
    }
   ],
   "source": [
    "# df_new_filtered | df_6months_filtered\n",
    "print(\"\\033[1m\\n ~ ULTIMO AÑO (2022) ~ \\033[0m\\n\\n- - - - - - - - -\")\n",
    "\n",
    "print(\"\\033[1m\\n> El ultimo año con productos de U$S Unitario <= 1200 tiene (filas, cols):\\033[0m\\n\\n\",\n",
    "      df_new_filtered.shape, '\\n\\n- - - - - - - - -')\n",
    "\n",
    "print(\"\\033[1m\", \"\\n> De U$S Unitario(<=1200) en el ultimo año tenemos los siguientes estadisticos:\\n\", \"\\033[0m\\n\",\n",
    "      df_new_filtered['U$S Unitario'].describe().round(2), '\\n\\n- - - - - - - - -\\n')\n",
    "\n",
    "print(\"\\033[1m ~ ULTIMO SEMESTRE (2022) ~ \\033[0m\\n\\n- - - - - - - - -\")\n",
    "\n",
    "# print(\"\\033[1m\\n> Los 6 ultimos meses con productos de U$S Unitario <= 1200 tienen (filas, cols):\\033[0m\\n\\n\",\n",
    "#       df_6months_filtered.shape, '\\n\\n- - - - - - - - -')\n",
    "\n",
    "# print(\"\\033[1m\", \"\\n> De U$S Unitario(<=1200) en los ultimos 6 meses tenemos los siguientes estadisticos:\\n\", \"\\033[0m\\n\",\n",
    "#       df_6months_filtered['U$S Unitario'].describe().round(2), '\\n\\n- - - - - - - - -\\n')\n"
   ]
  },
  {
   "cell_type": "code",
   "execution_count": 18,
   "metadata": {
    "id": "MU-yNqk38244"
   },
   "outputs": [],
   "source": [
    "# Volumen neto total por año\n",
    "totalNetImport_year = df_new_filtered[['Importador',  'Kgs. Netos']]\n",
    "\n",
    "# print(maxImport_year.head(1))\n",
    "\n",
    "# totalNetImport_6months = df_6months_filtered[['Importador',  'Kgs. Netos']]\n",
    "\n",
    "# print(maxImport_6months.head(1))\n"
   ]
  },
  {
   "cell_type": "code",
   "execution_count": 19,
   "metadata": {
    "id": "ILMiPwlw--Fy"
   },
   "outputs": [
    {
     "name": "stdout",
     "output_type": "stream",
     "text": [
      "\u001b[1m\n",
      "> Volumen total neto de importaciones en el ultimo año por compañia en TONELADAS:\n",
      "\u001b[0m\n",
      "Importador\n",
      "TEKNAL S A    162.0\n",
      "Name: Kgs. Netos, dtype: float64\n",
      "\n",
      "- - - - - - - - -\n",
      "\n"
     ]
    }
   ],
   "source": [
    "year_groupedby = (totalNetImport_year.groupby(\n",
    "    \"Importador\").sum().sort_values('Kgs. Netos', ascending=False)/1000).round(2)\n",
    "\n",
    "print(\"\\033[1m\\n> Volumen total neto de importaciones en el ultimo año por compañia en TONELADAS:\\n\\033[0m\")\n",
    "\n",
    "year_groupedby.apply(print)\n",
    "\n",
    "print(\"\\n- - - - - - - - -\\n\")\n"
   ]
  },
  {
   "cell_type": "code",
   "execution_count": null,
   "metadata": {
    "id": "A8d0UDP3D_XI"
   },
   "outputs": [],
   "source": [
    "# sixMonths_groupedby = (totalNetImport_6months.groupby(\n",
    "#     \"Importador\").sum().sort_values('Kgs. Netos', ascending=False)/1000).round(2)\n",
    "\n",
    "# print(\"\\033[1m\\n> Volumen total neto de importaciones en el ultimo semestre por compañia en TONELADAS:\\n\\033[0m\")\n",
    "\n",
    "# sixMonths_groupedby.apply(print)\n",
    "\n",
    "# # print(totalNetImport_6months[\"Kgs. Netos\"].sum()) - Vol. total sin discriminar compañias\n",
    "\n",
    "# print(\"\\n- - - - - - - - -\\n\")\n"
   ]
  }
 ],
 "metadata": {
  "colab": {
   "provenance": []
  },
  "kernelspec": {
   "display_name": "Python 3 (ipykernel)",
   "language": "python",
   "name": "python3"
  },
  "language_info": {
   "codemirror_mode": {
    "name": "ipython",
    "version": 3
   },
   "file_extension": ".py",
   "mimetype": "text/x-python",
   "name": "python",
   "nbconvert_exporter": "python",
   "pygments_lexer": "ipython3",
   "version": "3.9.13"
  },
  "vscode": {
   "interpreter": {
    "hash": "31f2aee4e71d21fbe5cf8b01ff0e069b9275f58929596ceb00d14d90e3e16cd6"
   }
  }
 },
 "nbformat": 4,
 "nbformat_minor": 1
}
